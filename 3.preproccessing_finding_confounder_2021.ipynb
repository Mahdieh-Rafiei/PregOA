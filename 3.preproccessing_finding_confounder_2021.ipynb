{
 "cells": [
  {
   "cell_type": "code",
   "execution_count": 1,
   "metadata": {},
   "outputs": [
    {
     "name": "stderr",
     "output_type": "stream",
     "text": [
      "/Users/mahdie/opt/anaconda3/envs/physioai/lib/python3.10/site-packages/pandas/core/arrays/masked.py:60: UserWarning: Pandas requires version '1.3.6' or newer of 'bottleneck' (version '1.3.5' currently installed).\n",
      "  from pandas.core import (\n"
     ]
    }
   ],
   "source": [
    "import pandas as pd\n",
    "import numpy as np\n",
    "import matplotlib.pyplot as plt\n",
    "import scipy.stats as stats\n",
    "import statsmodels.api as sm"
   ]
  },
  {
   "cell_type": "code",
   "execution_count": 2,
   "metadata": {},
   "outputs": [
    {
     "name": "stderr",
     "output_type": "stream",
     "text": [
      "/var/folders/rn/9h9wnd_x13930h39r4t9tt_w0000gr/T/ipykernel_33429/3336401604.py:1: UnicodeWarning: \n",
      "One or more strings in the dta file could not be decoded using utf-8, and\n",
      "so the fallback encoding of latin-1 is being used.  This can happen when a file\n",
      "has been incorrectly encoded by Stata or some other software. You should verify\n",
      "the string values returned are correct.\n",
      "  df = pd.read_stata('data/SUF_DEAS2021_1.1_en.dta')\n"
     ]
    },
    {
     "name": "stdout",
     "output_type": "stream",
     "text": [
      "(5402, 2117)\n"
     ]
    }
   ],
   "source": [
    "df = pd.read_stata('data/SUF_DEAS2021_1.1_en.dta')\n",
    "print(df.shape)"
   ]
  },
  {
   "cell_type": "code",
   "execution_count": 3,
   "metadata": {},
   "outputs": [],
   "source": [
    "useful_variablee = ['fallnum',\n",
    "'alter_21', 'kc1', 'bmi_21', 'sf36_21', 'anzphy_21', 'lz_21', 'selbstwirk_21', 'kc300', \n",
    "'anzkind_21', 'kc3031', 'kc303a1', 'kc303b1', 'kc3021', 'kc3041', 'kc518a9', \n",
    "'kc518a11', 'kc518a1', 'kc518a2', 'kc518a3', 'kc518a4', 'kc518a5', 'kc518a6', 'kc518a7', \n",
    "'kc518a8', 'kc518a10', 'kc518a11', 'kc518a12', 'kc518a13', 'kc518a14', 'kc518a15', \n",
    "'kc518a16', 'kc518a17', 'kc518a18', 'kc518a19', 'kc518a20', 'kc503b', 'kc148_1', 'kd43_1', \n",
    "'kd44_1', 'kd45_1', 'kd43_21', 'kd44_21', 'kd45_21', 'kd43_22', 'kd44_22', 'kd45_22',\n",
    "'bildung4_21', 'isced_21', 'anzphy_21'\n",
    "]"
   ]
  },
  {
   "cell_type": "markdown",
   "metadata": {},
   "source": [
    "##### change name of some variables"
   ]
  },
  {
   "cell_type": "code",
   "execution_count": 4,
   "metadata": {},
   "outputs": [],
   "source": [
    "df = df.rename(columns={'fallnum': 'ID',\n",
    "                        'alter_21':'age', \n",
    "                        'bmi_21':'bmi', \n",
    "                        'kc1':'sex', \n",
    "                        'bildung4_21': 'level_education',\n",
    "                        'kc200' : 'marital_status',\n",
    "                        'kc300':'N_children',\n",
    "                        'kc518a9': 'OA',\n",
    "                        'kc802_1':'total_household_income',\n",
    "                        'kc3041': 'age_first_children', # what age they got pregnant (new variable)\n",
    "                        \n",
    "                        'kc518a1' : 'High cholesterol',\n",
    "                        'kc518a2' : 'Diabetes',\n",
    "                        'kc518a3' : 'blood_pressure',\n",
    "                        'kc518a4' : 'Heart_attack',\n",
    "                        'kc518a5' : 'Cardiac_insufficiency',\n",
    "                        'kc518a6' : 'Stroke',\n",
    "                        'kc518a7' : 'Circulatory_disorders_brain',\n",
    "                        'kc518a8' : 'Circulatory_disorders_legs',\n",
    "                        'kc518a10' : 'Osteoporosis',\n",
    "                        'kc518a11' : 'Inflammatory_joint',\n",
    "                        'kc518a12' : 'Chronic_pulmonary',\n",
    "                        'kc518a13' : 'Cancer',\n",
    "                        'kc518a14' : 'Stomach_ulcer',\n",
    "                        'kc518a15' : 'Incontinence',\n",
    "                        'kc518a16' : 'Mental_illness',\n",
    "                        'kc518a17' : 'Parkinson_disease',\n",
    "                        'kc518a18' : 'Glaucoma',\n",
    "                        'kc518a19' : 'Other_chronic_disease',\n",
    "                        'kc518a20' : 'other_illness',\n",
    "                        \n",
    "                        'lz_21': 'life_satisfication',\n",
    "                        'kc503b': 'General_pain', # Constant or recurring pain in the last four weeks\n",
    "                        'isced_21':'level_education_ISCED',                       \n",
    "                        'kc808': 'lowest_income',     \n",
    "                        'anzphy_21': 'N_physical_diseases', \n",
    "\n",
    "                        })"
   ]
  },
  {
   "cell_type": "markdown",
   "metadata": {},
   "source": [
    "##### Dataframe with desire variables:"
   ]
  },
  {
   "cell_type": "code",
   "execution_count": 5,
   "metadata": {},
   "outputs": [
    {
     "name": "stdout",
     "output_type": "stream",
     "text": [
      "(5402, 27)\n"
     ]
    }
   ],
   "source": [
    "variables = ['ID', 'age', 'sex', 'bmi', 'N_children', 'OA', \n",
    "              'age_first_children', 'level_education',  \n",
    "             \n",
    "             'High cholesterol', 'Diabetes', 'blood_pressure', 'Heart_attack',\n",
    "             'Cardiac_insufficiency', 'Stroke', 'Circulatory_disorders_brain',\n",
    "             'Circulatory_disorders_legs', 'Osteoporosis', 'Inflammatory_joint',\n",
    "             'Chronic_pulmonary', 'Cancer', 'Stomach_ulcer', 'Incontinence',\n",
    "             'Mental_illness', 'Parkinson_disease', 'Glaucoma',\n",
    "             'Other_chronic_disease', 'other_illness']\n",
    "df = df[variables]\n",
    "print(df.shape)"
   ]
  },
  {
   "cell_type": "code",
   "execution_count": 6,
   "metadata": {},
   "outputs": [
    {
     "data": {
      "text/plain": [
       "ID                               0\n",
       "age                              0\n",
       "sex                              0\n",
       "bmi                             80\n",
       "N_children                       3\n",
       "OA                               0\n",
       "age_first_children             671\n",
       "level_education                  0\n",
       "High cholesterol                 0\n",
       "Diabetes                         0\n",
       "blood_pressure                   0\n",
       "Heart_attack                     0\n",
       "Cardiac_insufficiency            0\n",
       "Stroke                           0\n",
       "Circulatory_disorders_brain      0\n",
       "Circulatory_disorders_legs       0\n",
       "Osteoporosis                     0\n",
       "Inflammatory_joint               0\n",
       "Chronic_pulmonary                0\n",
       "Cancer                           0\n",
       "Stomach_ulcer                    0\n",
       "Incontinence                     0\n",
       "Mental_illness                   0\n",
       "Parkinson_disease                0\n",
       "Glaucoma                         0\n",
       "Other_chronic_disease            0\n",
       "other_illness                    0\n",
       "dtype: int64"
      ]
     },
     "execution_count": 6,
     "metadata": {},
     "output_type": "execute_result"
    }
   ],
   "source": [
    "df.isna().sum()"
   ]
  },
  {
   "cell_type": "code",
   "execution_count": 7,
   "metadata": {},
   "outputs": [
    {
     "name": "stdout",
     "output_type": "stream",
     "text": [
      "Unique values in column 'ID':\n",
      "[1000007 1000018 1000020 ... 4005998 4005999 4006002]\n",
      "\n",
      "----------------------------------------\n",
      "\n",
      "Unique values in column 'age':\n",
      "[71, 83, 72, 80, '97-100', ..., 51, 50, 47, 48, 46]\n",
      "Length: 51\n",
      "Categories (51, object): [46 < 47 < 48 < 49 ... 93 < 94 < '95-96' < '97-100']\n",
      "\n",
      "----------------------------------------\n",
      "\n",
      "Unique values in column 'sex':\n",
      "['female', 'male']\n",
      "Categories (2, object): ['male' < 'female']\n",
      "\n",
      "----------------------------------------\n",
      "\n",
      "Unique values in column 'bmi':\n",
      "[16.852522, 25.249337, 30.119376, 37.109375, 22.959088, ..., 29.142146, 33.984375, 30.026595, 20.370370, 17.592593]\n",
      "Length: 1640\n",
      "Categories (1639, float64): [15.203813 < 15.234375 < 15.780836 < 15.886966 ... 54.815315 < 56.689342 < 56.923596 < 58.792443]\n",
      "\n",
      "----------------------------------------\n",
      "\n",
      "Unique values in column 'N_children':\n",
      "['no children', 1.0, 2.0, 3.0, 5.0, 4.0, 6.0, '8+', NaN, 7.0]\n",
      "Categories (9, object): ['no children' < 1.0 < 2.0 < 3.0 ... 5.0 < 6.0 < 7.0 < '8+']\n",
      "\n",
      "----------------------------------------\n",
      "\n",
      "Unique values in column 'OA':\n",
      "['not mentioned', 'mentioned']\n",
      "Categories (2, object): ['not mentioned' < 'mentioned']\n",
      "\n",
      "----------------------------------------\n",
      "\n",
      "Unique values in column 'age_first_children':\n",
      "[NaN, 1961.0, 1970.0, 1965.0, '1945. 1940-1948', ..., '2016. 2015-2016', 2013.0, 2008.0, 2014.0, '2011. 2010-2011']\n",
      "Length: 67\n",
      "Categories (66, object): ['1945. 1940-1948' < 1949.0 < 1950.0 < '1952. 1951-1952' ... 2012.0 < 2013.0 < 2014.0 < '2016. 2015-2016']\n",
      "\n",
      "----------------------------------------\n",
      "\n",
      "Unique values in column 'level_education':\n",
      "['high', 'sophisticated', 'medium', 'low']\n",
      "Categories (4, object): ['low' < 'medium' < 'sophisticated' < 'high']\n",
      "\n",
      "----------------------------------------\n",
      "\n",
      "Unique values in column 'High cholesterol':\n",
      "['No', 'Yes']\n",
      "Categories (2, object): ['No' < 'Yes']\n",
      "\n",
      "----------------------------------------\n",
      "\n",
      "Unique values in column 'Diabetes':\n",
      "['not mentioned', 'mentioned']\n",
      "Categories (2, object): ['not mentioned' < 'mentioned']\n",
      "\n",
      "----------------------------------------\n",
      "\n",
      "Unique values in column 'blood_pressure':\n",
      "['not mentioned', 'mentioned']\n",
      "Categories (2, object): ['not mentioned' < 'mentioned']\n",
      "\n",
      "----------------------------------------\n",
      "\n",
      "Unique values in column 'Heart_attack':\n",
      "['not mentioned', 'mentioned']\n",
      "Categories (2, object): ['not mentioned' < 'mentioned']\n",
      "\n",
      "----------------------------------------\n",
      "\n",
      "Unique values in column 'Cardiac_insufficiency':\n",
      "['not mentioned', 'mentioned']\n",
      "Categories (2, object): ['not mentioned' < 'mentioned']\n",
      "\n",
      "----------------------------------------\n",
      "\n",
      "Unique values in column 'Stroke':\n",
      "['not mentioned', 'mentioned']\n",
      "Categories (2, object): ['not mentioned' < 'mentioned']\n",
      "\n",
      "----------------------------------------\n",
      "\n",
      "Unique values in column 'Circulatory_disorders_brain':\n",
      "['not mentioned', 'mentioned']\n",
      "Categories (2, object): ['not mentioned' < 'mentioned']\n",
      "\n",
      "----------------------------------------\n",
      "\n",
      "Unique values in column 'Circulatory_disorders_legs':\n",
      "['not mentioned', 'mentioned']\n",
      "Categories (2, object): ['not mentioned' < 'mentioned']\n",
      "\n",
      "----------------------------------------\n",
      "\n",
      "Unique values in column 'Osteoporosis':\n",
      "['not mentioned', 'mentioned']\n",
      "Categories (2, object): ['not mentioned' < 'mentioned']\n",
      "\n",
      "----------------------------------------\n",
      "\n",
      "Unique values in column 'Inflammatory_joint':\n",
      "['not mentioned', 'mentioned']\n",
      "Categories (2, object): ['not mentioned' < 'mentioned']\n",
      "\n",
      "----------------------------------------\n",
      "\n",
      "Unique values in column 'Chronic_pulmonary':\n",
      "['not mentioned', 'mentioned']\n",
      "Categories (2, object): ['not mentioned' < 'mentioned']\n",
      "\n",
      "----------------------------------------\n",
      "\n",
      "Unique values in column 'Cancer':\n",
      "['not mentioned', 'mentioned']\n",
      "Categories (2, object): ['not mentioned' < 'mentioned']\n",
      "\n",
      "----------------------------------------\n",
      "\n",
      "Unique values in column 'Stomach_ulcer':\n",
      "['not mentioned', 'mentioned']\n",
      "Categories (2, object): ['not mentioned' < 'mentioned']\n",
      "\n",
      "----------------------------------------\n",
      "\n",
      "Unique values in column 'Incontinence':\n",
      "['not mentioned', 'mentioned']\n",
      "Categories (2, object): ['not mentioned' < 'mentioned']\n",
      "\n",
      "----------------------------------------\n",
      "\n",
      "Unique values in column 'Mental_illness':\n",
      "['not mentioned', 'mentioned']\n",
      "Categories (2, object): ['not mentioned' < 'mentioned']\n",
      "\n",
      "----------------------------------------\n",
      "\n",
      "Unique values in column 'Parkinson_disease':\n",
      "['not mentioned', 'mentioned']\n",
      "Categories (2, object): ['not mentioned' < 'mentioned']\n",
      "\n",
      "----------------------------------------\n",
      "\n",
      "Unique values in column 'Glaucoma':\n",
      "['not mentioned', 'mentioned']\n",
      "Categories (2, object): ['not mentioned' < 'mentioned']\n",
      "\n",
      "----------------------------------------\n",
      "\n",
      "Unique values in column 'Other_chronic_disease':\n",
      "['mentioned', 'not mentioned']\n",
      "Categories (2, object): ['not mentioned' < 'mentioned']\n",
      "\n",
      "----------------------------------------\n",
      "\n",
      "Unique values in column 'other_illness':\n",
      "['not mentioned', 'mentioned']\n",
      "Categories (2, object): ['not mentioned' < 'mentioned']\n",
      "\n",
      "----------------------------------------\n",
      "\n"
     ]
    }
   ],
   "source": [
    "# unique values\n",
    "for column in df.columns:\n",
    "    unique_values = df[column].unique()\n",
    "    print(f\"Unique values in column '{column}':\")\n",
    "    print(unique_values)\n",
    "    print(\"\\n\" + \"-\"*40 + \"\\n\") "
   ]
  },
  {
   "cell_type": "markdown",
   "metadata": {},
   "source": [
    "##### Creating new variable: Number of kids (N_kids)"
   ]
  },
  {
   "cell_type": "code",
   "execution_count": 8,
   "metadata": {},
   "outputs": [],
   "source": [
    "def create_N_kids(df):\n",
    "    \"\"\"\n",
    "    Function to create the 'N_kids' variable based on the 'N_children' column.\n",
    "    \n",
    "    Rules:\n",
    "    - 'no children' -> 0\n",
    "    - 1, 2, 3 -> 1, 2, 3 (same as value)\n",
    "    - >3 or '8+' -> 4\n",
    "    - NaN -> NaN\n",
    "    \"\"\"\n",
    "    def map_N_kids(value):\n",
    "        if value == 'no children':\n",
    "            return 0\n",
    "        elif value in [1.0, 2.0, 3.0]:\n",
    "            return value\n",
    "        elif value in [4.0, 5.0, 6.0, 7.0, '8+']:  #'\n",
    "            return 4.0\n",
    "        else:\n",
    "            return np.nan  # Handle unexpected values with NaN\n",
    "\n",
    "\n",
    "    df['N_kids'] = df['N_children'].apply(map_N_kids)\n",
    "    \n",
    "    return df\n"
   ]
  },
  {
   "cell_type": "code",
   "execution_count": 9,
   "metadata": {},
   "outputs": [
    {
     "name": "stdout",
     "output_type": "stream",
     "text": [
      "Number of kids/before N_children\n",
      "2.0            2308\n",
      "1.0            1221\n",
      "3.0             844\n",
      "no children     649\n",
      "4.0             265\n",
      "5.0              72\n",
      "6.0              23\n",
      "7.0              11\n",
      "8+                6\n",
      "Name: count, dtype: int64\n",
      "number of miss value: 3\n",
      "-----------------------\n",
      "number of miss value: 3\n",
      "Number of kids/after N_kids\n",
      "2.0    2308\n",
      "1.0    1221\n",
      "3.0     844\n",
      "0.0     649\n",
      "4.0     377\n",
      "Name: count, dtype: int64\n"
     ]
    }
   ],
   "source": [
    "print(\"Number of kids/before\", df.N_children.value_counts())\n",
    "print(\"number of miss value:\", df.N_children.isna().sum())\n",
    "df = create_N_kids(df)\n",
    "print(\"-----------------------\")\n",
    "print(\"number of miss value:\", df.N_kids.isna().sum())\n",
    "print(\"Number of kids/after\", df.N_kids.value_counts())"
   ]
  },
  {
   "cell_type": "code",
   "execution_count": 10,
   "metadata": {},
   "outputs": [
    {
     "name": "stdout",
     "output_type": "stream",
     "text": [
      "-----------------------\n",
      "number of miss value: 3\n",
      "Number of kids/befor droping nan value N_kids\n",
      "2.0    2308\n",
      "1.0    1221\n",
      "3.0     844\n",
      "0.0     649\n",
      "4.0     377\n",
      "Name: count, dtype: int64\n"
     ]
    }
   ],
   "source": [
    "df = create_N_kids(df)\n",
    "print(\"-----------------------\")\n",
    "print(\"number of miss value:\", df.N_kids.isna().sum())\n",
    "print(\"Number of kids/befor droping nan value\", df.N_kids.value_counts())"
   ]
  },
  {
   "cell_type": "code",
   "execution_count": 11,
   "metadata": {},
   "outputs": [
    {
     "name": "stdout",
     "output_type": "stream",
     "text": [
      "Number of kids/before N_kids\n",
      "2.0    2308\n",
      "1.0    1221\n",
      "3.0     844\n",
      "0.0     649\n",
      "4.0     377\n",
      "Name: count, dtype: int64\n",
      "number of miss value: 3\n"
     ]
    }
   ],
   "source": [
    "print(\"Number of kids/before\", df.N_kids.value_counts())\n",
    "print(\"number of miss value:\", df.N_kids.isna().sum())"
   ]
  },
  {
   "cell_type": "markdown",
   "metadata": {},
   "source": [
    "##### Creating new variables: Has kid? (has_kid)"
   ]
  },
  {
   "cell_type": "code",
   "execution_count": 12,
   "metadata": {},
   "outputs": [],
   "source": [
    "# has kid?\n",
    "def map_has_kid(value):\n",
    "    \"\"\" Map 'N_children' to 'has_kid' according to specified rules \"\"\"\n",
    "    if pd.isna(value):\n",
    "        return np.nan  # Return NaN if value is NaN\n",
    "    elif value == 0.0:\n",
    "        return 0\n",
    "    elif value in [1.0, 2.0, 3.0, 4.0]:\n",
    "        return 1\n",
    "    else:\n",
    "        return np.nan"
   ]
  },
  {
   "cell_type": "code",
   "execution_count": 13,
   "metadata": {},
   "outputs": [
    {
     "name": "stdout",
     "output_type": "stream",
     "text": [
      "Number of kids/before N_kids\n",
      "2.0    2308\n",
      "1.0    1221\n",
      "3.0     844\n",
      "0.0     649\n",
      "4.0     377\n",
      "Name: count, dtype: int64\n",
      "number of miss value: 3\n",
      "-----------------------\n",
      "number of miss value: 3\n",
      "Number of kids/after has_kid\n",
      "1.0    4750\n",
      "0.0     649\n",
      "Name: count, dtype: int64\n"
     ]
    }
   ],
   "source": [
    "print(\"Number of kids/before\", df.N_kids.value_counts())\n",
    "print(\"number of miss value:\", df.N_kids.isna().sum())\n",
    "df['has_kid'] = df['N_kids'].apply(map_has_kid)\n",
    "print(\"-----------------------\")\n",
    "print(\"number of miss value:\", df.has_kid.isna().sum())\n",
    "print(\"Number of kids/after\", df.has_kid.value_counts())"
   ]
  },
  {
   "cell_type": "markdown",
   "metadata": {},
   "source": [
    "##### Maping value of disease variables:"
   ]
  },
  {
   "cell_type": "code",
   "execution_count": 14,
   "metadata": {},
   "outputs": [],
   "source": [
    "def map_cholesterol(df, column_name='High cholesterol'):\n",
    "    \"\"\"\n",
    "    Maps the 'cholesterol' column to numerical values \n",
    "    \"\"\"\n",
    "    cholesterol_mapping = {\n",
    "        'No': 0, \n",
    "        'Yes': 1, \n",
    "    }\n",
    "    \n",
    "    df[column_name] = df[column_name].map(cholesterol_mapping)\n",
    "    return df\n",
    "\n",
    "def map_disease(value):\n",
    "    \"\"\"\n",
    "    Map disease presence to 1 and absence to 0, or return NaN for unknown values.\n",
    "    \"\"\"\n",
    "    if value == 'mentioned':\n",
    "        return 1\n",
    "    elif value == 'not mentioned':\n",
    "        return 0\n",
    "    else:\n",
    "        return np.nan\n",
    "\n",
    "# Function to apply map_disease to specified columns\n",
    "def apply_disease_mapping(df):\n",
    "    disease_columns = [\n",
    "        'Diabetes', 'blood_pressure', 'Heart_attack',\n",
    "        'Cardiac_insufficiency', 'Stroke', 'Circulatory_disorders_brain',\n",
    "        'Circulatory_disorders_legs', 'Osteoporosis', 'Inflammatory_joint',\n",
    "        'Chronic_pulmonary', 'Cancer', 'Stomach_ulcer', 'Incontinence',\n",
    "        'Mental_illness', 'Parkinson_disease', 'Glaucoma',\n",
    "        'Other_chronic_disease', 'other_illness'\n",
    "    ]\n",
    "    \n",
    " \n",
    "    for col in disease_columns:\n",
    "        df[col] = df[col].apply(map_disease)\n",
    "    \n",
    "    return df"
   ]
  },
  {
   "cell_type": "code",
   "execution_count": 15,
   "metadata": {},
   "outputs": [
    {
     "name": "stdout",
     "output_type": "stream",
     "text": [
      "Diabetes: 0\n",
      "blood_pressure: 0\n",
      "Heart_attack: 0\n",
      "Cardiac_insufficiency: 0\n",
      "Stroke: 0\n",
      "Circulatory_disorders_brain: 0\n",
      "Circulatory_disorders_legs: 0\n",
      "Osteoporosis: 0\n",
      "Inflammatory_joint: 0\n",
      "Chronic_pulmonary: 0\n",
      "Cancer: 0\n",
      "Stomach_ulcer: 0\n",
      "Incontinence: 0\n",
      "Mental_illness: 0\n",
      "Parkinson_disease: 0\n",
      "Glaucoma: 0\n",
      "Other_chronic_disease: 0\n",
      "other_illness: 0\n",
      "High cholesterol: 0\n"
     ]
    }
   ],
   "source": [
    "disease_columns = [\n",
    "        'Diabetes', 'blood_pressure', 'Heart_attack',\n",
    "        'Cardiac_insufficiency', 'Stroke', 'Circulatory_disorders_brain',\n",
    "        'Circulatory_disorders_legs', 'Osteoporosis', 'Inflammatory_joint',\n",
    "        'Chronic_pulmonary', 'Cancer', 'Stomach_ulcer', 'Incontinence',\n",
    "        'Mental_illness', 'Parkinson_disease', 'Glaucoma',\n",
    "        'Other_chronic_disease', 'other_illness', 'High cholesterol'\n",
    "    ]\n",
    "for col in disease_columns:\n",
    "    print(f\"{col}: {df[col].isna().sum()}\")\n",
    "    \n"
   ]
  },
  {
   "cell_type": "code",
   "execution_count": 16,
   "metadata": {},
   "outputs": [],
   "source": [
    "df = apply_disease_mapping(df)\n",
    "df = map_cholesterol(df)"
   ]
  },
  {
   "cell_type": "code",
   "execution_count": 17,
   "metadata": {},
   "outputs": [
    {
     "name": "stdout",
     "output_type": "stream",
     "text": [
      "Diabetes: 0\n",
      "blood_pressure: 0\n",
      "Heart_attack: 0\n",
      "Cardiac_insufficiency: 0\n",
      "Stroke: 0\n",
      "Circulatory_disorders_brain: 0\n",
      "Circulatory_disorders_legs: 0\n",
      "Osteoporosis: 0\n",
      "Inflammatory_joint: 0\n",
      "Chronic_pulmonary: 0\n",
      "Cancer: 0\n",
      "Stomach_ulcer: 0\n",
      "Incontinence: 0\n",
      "Mental_illness: 0\n",
      "Parkinson_disease: 0\n",
      "Glaucoma: 0\n",
      "Other_chronic_disease: 0\n",
      "other_illness: 0\n",
      "High cholesterol: 0\n"
     ]
    }
   ],
   "source": [
    "for col in disease_columns:\n",
    "    print(f\"{col}: {df[col].isna().sum()}\")"
   ]
  },
  {
   "cell_type": "code",
   "execution_count": 18,
   "metadata": {},
   "outputs": [
    {
     "name": "stdout",
     "output_type": "stream",
     "text": [
      "Diabetes: Diabetes\n",
      "0    4679\n",
      "1     723\n",
      "Name: count, dtype: int64\n",
      "blood_pressure: blood_pressure\n",
      "0    2763\n",
      "1    2639\n",
      "Name: count, dtype: int64\n",
      "Heart_attack: Heart_attack\n",
      "0    5130\n",
      "1     272\n",
      "Name: count, dtype: int64\n",
      "Cardiac_insufficiency: Cardiac_insufficiency\n",
      "0    4671\n",
      "1     731\n",
      "Name: count, dtype: int64\n",
      "Stroke: Stroke\n",
      "0    5165\n",
      "1     237\n",
      "Name: count, dtype: int64\n",
      "Circulatory_disorders_brain: Circulatory_disorders_brain\n",
      "0    5287\n",
      "1     115\n",
      "Name: count, dtype: int64\n",
      "Circulatory_disorders_legs: Circulatory_disorders_legs\n",
      "0    4830\n",
      "1     572\n",
      "Name: count, dtype: int64\n",
      "Osteoporosis: Osteoporosis\n",
      "0    4938\n",
      "1     464\n",
      "Name: count, dtype: int64\n",
      "Inflammatory_joint: Inflammatory_joint\n",
      "0    4581\n",
      "1     821\n",
      "Name: count, dtype: int64\n",
      "Chronic_pulmonary: Chronic_pulmonary\n",
      "0    4932\n",
      "1     470\n",
      "Name: count, dtype: int64\n",
      "Cancer: Cancer\n",
      "0    4831\n",
      "1     571\n",
      "Name: count, dtype: int64\n",
      "Stomach_ulcer: Stomach_ulcer\n",
      "0    5238\n",
      "1     164\n",
      "Name: count, dtype: int64\n",
      "Incontinence: Incontinence\n",
      "0    5147\n",
      "1     255\n",
      "Name: count, dtype: int64\n",
      "Mental_illness: Mental_illness\n",
      "0    4957\n",
      "1     445\n",
      "Name: count, dtype: int64\n",
      "Parkinson_disease: Parkinson_disease\n",
      "0    5358\n",
      "1      44\n",
      "Name: count, dtype: int64\n",
      "Glaucoma: Glaucoma\n",
      "0    4927\n",
      "1     475\n",
      "Name: count, dtype: int64\n",
      "Other_chronic_disease: Other_chronic_disease\n",
      "0    4583\n",
      "1     819\n",
      "Name: count, dtype: int64\n",
      "other_illness: other_illness\n",
      "0    4738\n",
      "1     664\n",
      "Name: count, dtype: int64\n",
      "High cholesterol: High cholesterol\n",
      "0    3639\n",
      "1    1763\n",
      "Name: count, dtype: int64\n"
     ]
    }
   ],
   "source": [
    "for col in disease_columns:\n",
    "    print(f\"{col}: {df[col].value_counts()}\")"
   ]
  },
  {
   "cell_type": "markdown",
   "metadata": {},
   "source": [
    "##### Create new variable: number of diseases (N_disease)"
   ]
  },
  {
   "cell_type": "code",
   "execution_count": 19,
   "metadata": {},
   "outputs": [],
   "source": [
    "# Create new variable: disease_columns which  is number of disease that made from diseases\n",
    "N_disease_columns = [\n",
    "    'Diabetes', 'blood_pressure', 'Heart_attack',\n",
    "        'Cardiac_insufficiency', 'Stroke', 'Circulatory_disorders_brain',\n",
    "        'Circulatory_disorders_legs', 'Osteoporosis', 'Inflammatory_joint',\n",
    "        'Chronic_pulmonary', 'Cancer', 'Stomach_ulcer', 'Incontinence',\n",
    "        'Mental_illness', 'Parkinson_disease', 'Glaucoma',\n",
    "        'Other_chronic_disease', 'other_illness', 'High cholesterol'\n",
    "]\n",
    "\n",
    "df[N_disease_columns] = df[N_disease_columns].apply(pd.to_numeric, errors='coerce')\n",
    "\n",
    "\n",
    "df['N_disease'] = df[N_disease_columns].sum(axis=1)"
   ]
  },
  {
   "cell_type": "code",
   "execution_count": 20,
   "metadata": {},
   "outputs": [
    {
     "name": "stdout",
     "output_type": "stream",
     "text": [
      "number of miss value: 0\n",
      "value count/after N_disease\n",
      "1     2039\n",
      "2     1159\n",
      "3      821\n",
      "4      517\n",
      "0      294\n",
      "5      288\n",
      "6      154\n",
      "7       79\n",
      "8       31\n",
      "9       12\n",
      "10       6\n",
      "11       1\n",
      "12       1\n",
      "Name: count, dtype: int64\n"
     ]
    }
   ],
   "source": [
    "print(\"number of miss value:\", df.N_disease.isna().sum())\n",
    "print(\"value count/after\", df.N_disease.value_counts())"
   ]
  },
  {
   "cell_type": "markdown",
   "metadata": {},
   "source": [
    "##### Map value of variables, (age, sex, OA, Education)"
   ]
  },
  {
   "cell_type": "code",
   "execution_count": 21,
   "metadata": {},
   "outputs": [],
   "source": [
    "# age:\n",
    "def map_age(value):\n",
    "    \"\"\" Convert age range to an integer average, or keep the value as is.\"\"\"\n",
    "    if isinstance(value, str) and '-' in value:\n",
    "        parts = value.split('-')\n",
    "        try:\n",
    "            start = int(parts[0])\n",
    "            end = int(parts[1])\n",
    "            return int((start + end) / 2)\n",
    "        except:\n",
    "            return np.nan  \n",
    "    else:\n",
    "        try:\n",
    "            return int(value)  \n",
    "        except:\n",
    "            return np.nan  \n",
    "# sex:\n",
    "def map_sex(value):\n",
    "    \"\"\" Map 'female' to 1 and 'male' to 0 \"\"\"\n",
    "    value = value.strip().lower()\n",
    "    if value == 'female':\n",
    "        return 1\n",
    "    elif value == 'male':\n",
    "        return 0\n",
    "    else:\n",
    "        return np.nan\n",
    "# OA:\n",
    "def map_OA(value):\n",
    "    \"\"\" Map 'no OA' to 0 and 'has OA' to 1 \"\"\"\n",
    "    value = value.strip().lower()  #\n",
    "    if value == 'not mentioned':\n",
    "        return 0\n",
    "    elif value == 'mentioned':\n",
    "        return 1\n",
    "    else:\n",
    "        return np.nan \n",
    "\n",
    "# Education\n",
    "def map_level_education(df, column_name='level_education'):\n",
    "    \"\"\"\n",
    "    Maps the 'level_education' column to numerical values \n",
    "    \"\"\"\n",
    "    education_mapping = {\n",
    "        'low': 0,\n",
    "        'medium': 1, \n",
    "        'sophisticated': 2, \n",
    "        'high': 3,\n",
    "    }\n",
    "    \n",
    "    df[column_name] = df[column_name].map(education_mapping)\n",
    "    return df"
   ]
  },
  {
   "cell_type": "code",
   "execution_count": 22,
   "metadata": {},
   "outputs": [
    {
     "name": "stdout",
     "output_type": "stream",
     "text": [
      "----Age----\n",
      "number of miss value: 0\n",
      "value count/after age\n",
      "65        199\n",
      "66        186\n",
      "63        180\n",
      "64        178\n",
      "70        174\n",
      "77        173\n",
      "71        170\n",
      "67        170\n",
      "68        167\n",
      "72        166\n",
      "69        166\n",
      "76        164\n",
      "62        163\n",
      "61        162\n",
      "60        160\n",
      "80        155\n",
      "78        152\n",
      "73        146\n",
      "59        145\n",
      "79        145\n",
      "58        143\n",
      "81        142\n",
      "82        135\n",
      "74        128\n",
      "57        126\n",
      "55        125\n",
      "56        124\n",
      "83        120\n",
      "75        111\n",
      "54        110\n",
      "84         90\n",
      "53         87\n",
      "52         81\n",
      "85         78\n",
      "86         64\n",
      "51         60\n",
      "87         48\n",
      "49         46\n",
      "50         36\n",
      "48         36\n",
      "47         34\n",
      "89         33\n",
      "88         28\n",
      "90         26\n",
      "46         23\n",
      "91         14\n",
      "92         11\n",
      "93         10\n",
      "97-100      5\n",
      "94          4\n",
      "95-96       3\n",
      "Name: count, dtype: int64\n",
      "----Sex----\n",
      "number of miss value: 0\n",
      "value count/after sex\n",
      "female    2746\n",
      "male      2656\n",
      "Name: count, dtype: int64\n",
      "----OA----\n",
      "number of miss value: 0\n",
      "value count/after OA\n",
      "not mentioned    2909\n",
      "mentioned        2493\n",
      "Name: count, dtype: int64\n",
      "----Education----\n",
      "number of miss value: 0\n",
      "value count/after level_education\n",
      "medium           2545\n",
      "high             1821\n",
      "sophisticated     804\n",
      "low               232\n",
      "Name: count, dtype: int64\n"
     ]
    }
   ],
   "source": [
    "print(\"----Age----\")\n",
    "print(\"number of miss value:\", df.age.isna().sum())\n",
    "print(\"value count/after\", df.age.value_counts())\n",
    "print(\"----Sex----\")\n",
    "print(\"number of miss value:\", df.sex.isna().sum())\n",
    "print(\"value count/after\", df.sex.value_counts())\n",
    "print(\"----OA----\")\n",
    "print(\"number of miss value:\", df.OA.isna().sum())\n",
    "print(\"value count/after\", df.OA.value_counts())\n",
    "print(\"----Education----\")\n",
    "print(\"number of miss value:\", df.level_education.isna().sum())\n",
    "print(\"value count/after\", df.level_education.value_counts())"
   ]
  },
  {
   "cell_type": "code",
   "execution_count": 23,
   "metadata": {},
   "outputs": [],
   "source": [
    "# Apply age \n",
    "df['age'] = df['age'].apply(map_age)\n",
    "# Apply sex  \n",
    "df['sex'] = df['sex'].apply(map_sex)\n",
    "# Apply OA  \n",
    "df['OA'] = df['OA'].apply(map_OA)\n",
    "# Apply Education\n",
    "df = map_level_education(df)"
   ]
  },
  {
   "cell_type": "code",
   "execution_count": 24,
   "metadata": {},
   "outputs": [
    {
     "name": "stdout",
     "output_type": "stream",
     "text": [
      "----Age----\n",
      "number of miss value: 0\n",
      "value count/after age\n",
      "65    199\n",
      "66    186\n",
      "63    180\n",
      "64    178\n",
      "70    174\n",
      "77    173\n",
      "71    170\n",
      "67    170\n",
      "68    167\n",
      "72    166\n",
      "69    166\n",
      "76    164\n",
      "62    163\n",
      "61    162\n",
      "60    160\n",
      "80    155\n",
      "78    152\n",
      "73    146\n",
      "59    145\n",
      "79    145\n",
      "58    143\n",
      "81    142\n",
      "82    135\n",
      "74    128\n",
      "57    126\n",
      "55    125\n",
      "56    124\n",
      "83    120\n",
      "75    111\n",
      "54    110\n",
      "84     90\n",
      "53     87\n",
      "52     81\n",
      "85     78\n",
      "86     64\n",
      "51     60\n",
      "87     48\n",
      "49     46\n",
      "50     36\n",
      "48     36\n",
      "47     34\n",
      "89     33\n",
      "88     28\n",
      "90     26\n",
      "46     23\n",
      "91     14\n",
      "92     11\n",
      "93     10\n",
      "98      5\n",
      "94      4\n",
      "95      3\n",
      "Name: count, dtype: int64\n",
      "----Sex----\n",
      "number of miss value: 0\n",
      "value count/after sex\n",
      "1    2746\n",
      "0    2656\n",
      "Name: count, dtype: int64\n",
      "----OA----\n",
      "number of miss value: 0\n",
      "value count/after OA\n",
      "0    2909\n",
      "1    2493\n",
      "Name: count, dtype: int64\n",
      "----Education----\n",
      "number of miss value: 0\n",
      "value count/after level_education\n",
      "1    2545\n",
      "3    1821\n",
      "2     804\n",
      "0     232\n",
      "Name: count, dtype: int64\n"
     ]
    }
   ],
   "source": [
    "print(\"----Age----\")\n",
    "print(\"number of miss value:\", df.age.isna().sum())\n",
    "print(\"value count/after\", df.age.value_counts())\n",
    "print(\"----Sex----\")\n",
    "print(\"number of miss value:\", df.sex.isna().sum())\n",
    "print(\"value count/after\", df.sex.value_counts())\n",
    "print(\"----OA----\")\n",
    "print(\"number of miss value:\", df.OA.isna().sum())\n",
    "print(\"value count/after\", df.OA.value_counts())\n",
    "print(\"----Education----\")\n",
    "print(\"number of miss value:\", df.level_education.isna().sum())\n",
    "print(\"value count/after\", df.level_education.value_counts())"
   ]
  },
  {
   "cell_type": "markdown",
   "metadata": {},
   "source": [
    "##### Create new variable: age of having first kid (age_having_kids)"
   ]
  },
  {
   "cell_type": "code",
   "execution_count": null,
   "metadata": {},
   "outputs": [],
   "source": [
    "def map_age_first_children(value):\n",
    "    if isinstance(value, str):\n",
    "        # Check if the value contains a range\n",
    "        if '-' in value:\n",
    "            # Extract the first and last year from the range\n",
    "            years = value.split('-')\n",
    "            try:\n",
    "                # Take the average of the range\n",
    "                start_year = int(years[0].split()[-1])  # Extract the year before the range\n",
    "                end_year = int(years[1])\n",
    "                return int((start_year + end_year) / 2)\n",
    "            except ValueError:\n",
    "                return np.nan  # Handle invalid values\n",
    "        else:\n",
    "            # Extract the first year if no range is provided\n",
    "            try:\n",
    "                return int(value.split('.')[0])  # Take the first year in the string\n",
    "            except ValueError:\n",
    "                return np.nan\n",
    "    else:\n",
    "        # If the value is already numeric (e.g., 1949.0), return it as an integer\n",
    "        return int(value) if pd.notnull(value) else np.nan"
   ]
  },
  {
   "cell_type": "code",
   "execution_count": 26,
   "metadata": {},
   "outputs": [
    {
     "name": "stdout",
     "output_type": "stream",
     "text": [
      "number of miss value: 671\n",
      "value count/after age_first_children\n",
      "1980.0             172\n",
      "1982.0             151\n",
      "1977.0             148\n",
      "1981.0             143\n",
      "1969.0             140\n",
      "                  ... \n",
      "1950.0               6\n",
      "2011. 2010-2011      5\n",
      "2012.0               4\n",
      "1949.0               3\n",
      "2014.0               3\n",
      "Name: count, Length: 66, dtype: int64\n"
     ]
    }
   ],
   "source": [
    "print(\"number of miss value:\", df.age_first_children.isna().sum())\n",
    "print(\"value count/after\", df.age_first_children.value_counts())"
   ]
  },
  {
   "cell_type": "code",
   "execution_count": 27,
   "metadata": {},
   "outputs": [],
   "source": [
    "df['age_first_children'] = df['age_first_children'].apply(map_age_first_children)"
   ]
  },
  {
   "cell_type": "code",
   "execution_count": 28,
   "metadata": {},
   "outputs": [
    {
     "data": {
      "text/plain": [
       "0        NaN\n",
       "1       60.0\n",
       "2       51.0\n",
       "3       56.0\n",
       "4        NaN\n",
       "        ... \n",
       "5397    18.0\n",
       "5398    55.0\n",
       "5399    41.0\n",
       "5400    51.0\n",
       "5401    23.0\n",
       "Name: age_having_kids, Length: 5402, dtype: float64"
      ]
     },
     "execution_count": 28,
     "metadata": {},
     "output_type": "execute_result"
    }
   ],
   "source": [
    "interview_year = 2021\n",
    "\n",
    "df['age'] = pd.to_numeric(df['age'], errors='coerce')\n",
    "df['age_first_children'] = pd.to_numeric(df['age_first_children'], errors='coerce')\n",
    "\n",
    "# Calculate the age when they had their first child\n",
    "df['age_having_kids'] = interview_year - df['age_first_children']\n",
    "\n",
    "df.age_having_kids"
   ]
  },
  {
   "cell_type": "code",
   "execution_count": 29,
   "metadata": {},
   "outputs": [
    {
     "name": "stdout",
     "output_type": "stream",
     "text": [
      "number of miss value: 671\n",
      "value count/after age_having_kids\n",
      "41.0    172\n",
      "39.0    151\n",
      "44.0    148\n",
      "40.0    143\n",
      "52.0    140\n",
      "       ... \n",
      "71.0      6\n",
      "11.0      5\n",
      "9.0       4\n",
      "72.0      3\n",
      "7.0       3\n",
      "Name: count, Length: 66, dtype: int64\n"
     ]
    }
   ],
   "source": [
    "print(\"number of miss value:\", df.age_having_kids.isna().sum())\n",
    "print(\"value count/after\", df.age_having_kids.value_counts())"
   ]
  },
  {
   "cell_type": "markdown",
   "metadata": {},
   "source": [
    "##### Drop NaN value and save dataframe:"
   ]
  },
  {
   "cell_type": "code",
   "execution_count": 30,
   "metadata": {},
   "outputs": [],
   "source": [
    "columns_to_drop = [\n",
    "    'High cholesterol', 'Diabetes', 'blood_pressure', 'Heart_attack',\n",
    "    'Cardiac_insufficiency', 'Stroke', 'Circulatory_disorders_brain',\n",
    "    'Circulatory_disorders_legs', 'Osteoporosis', 'Inflammatory_joint',\n",
    "    'Chronic_pulmonary', 'Cancer', 'Stomach_ulcer', 'Incontinence',\n",
    "    'Mental_illness', 'Parkinson_disease', 'Glaucoma',\n",
    "    'Other_chronic_disease', 'other_illness',\n",
    "    \n",
    "    'age_first_children', 'N_children', 'age_having_kids'\n",
    "]\n",
    "df_new = df.drop(columns=columns_to_drop)"
   ]
  },
  {
   "cell_type": "code",
   "execution_count": 31,
   "metadata": {},
   "outputs": [
    {
     "name": "stdout",
     "output_type": "stream",
     "text": [
      "shape if df:  (5402, 31)\n",
      "Shape of df_new: (5402, 9)\n"
     ]
    }
   ],
   "source": [
    "print(\"shape if df: \", df.shape)\n",
    "print(\"Shape of df_new:\", df_new.shape)"
   ]
  },
  {
   "cell_type": "code",
   "execution_count": 33,
   "metadata": {},
   "outputs": [
    {
     "name": "stdout",
     "output_type": "stream",
     "text": [
      "Unique values in column 'ID':\n",
      "[1000007 1000018 1000020 ... 4005998 4005999 4006002]\n",
      "\n",
      "----------------------------------------\n",
      "\n",
      "Unique values in column 'age':\n",
      "[71 83 72 80 98 95 79 87 82 91 93 78 76 86 85 94 84 81 90 77 74 70 89 67\n",
      " 88 68 75 73 69 66 64 65 58 59 60 62 63 61 92 56 53 55 54 57 52 49 51 50\n",
      " 47 48 46]\n",
      "\n",
      "----------------------------------------\n",
      "\n",
      "Unique values in column 'sex':\n",
      "[1, 0]\n",
      "Categories (2, int64): [0 < 1]\n",
      "\n",
      "----------------------------------------\n",
      "\n",
      "Unique values in column 'bmi':\n",
      "[16.852522, 25.249337, 30.119376, 37.109375, 22.959088, ..., 29.142146, 33.984375, 30.026595, 20.370370, 17.592593]\n",
      "Length: 1640\n",
      "Categories (1639, float64): [15.203813 < 15.234375 < 15.780836 < 15.886966 ... 54.815315 < 56.689342 < 56.923596 < 58.792443]\n",
      "\n",
      "----------------------------------------\n",
      "\n",
      "Unique values in column 'OA':\n",
      "[0, 1]\n",
      "Categories (2, int64): [0 < 1]\n",
      "\n",
      "----------------------------------------\n",
      "\n",
      "Unique values in column 'level_education':\n",
      "[3, 2, 1, 0]\n",
      "Categories (4, int64): [0 < 1 < 2 < 3]\n",
      "\n",
      "----------------------------------------\n",
      "\n",
      "Unique values in column 'N_kids':\n",
      "[ 0.  1.  2.  3.  4. nan]\n",
      "\n",
      "----------------------------------------\n",
      "\n",
      "Unique values in column 'has_kid':\n",
      "[ 0.  1. nan]\n",
      "\n",
      "----------------------------------------\n",
      "\n",
      "Unique values in column 'N_disease':\n",
      "[ 1  3  4  2  8  0  6  5  9  7 10 11 12]\n",
      "\n",
      "----------------------------------------\n",
      "\n"
     ]
    }
   ],
   "source": [
    "# unique values\n",
    "for column in df_new.columns:\n",
    "    unique_values = df_new[column].unique()\n",
    "    print(f\"Unique values in column '{column}':\")\n",
    "    print(unique_values)\n",
    "    print(\"\\n\" + \"-\"*40 + \"\\n\") "
   ]
  },
  {
   "cell_type": "code",
   "execution_count": 35,
   "metadata": {},
   "outputs": [
    {
     "data": {
      "text/plain": [
       "ID                  0\n",
       "age                 0\n",
       "sex                 0\n",
       "bmi                80\n",
       "OA                  0\n",
       "level_education     0\n",
       "N_kids              3\n",
       "has_kid             3\n",
       "N_disease           0\n",
       "dtype: int64"
      ]
     },
     "execution_count": 35,
     "metadata": {},
     "output_type": "execute_result"
    }
   ],
   "source": [
    "df_new.isna().sum()"
   ]
  },
  {
   "cell_type": "code",
   "execution_count": 36,
   "metadata": {},
   "outputs": [],
   "source": [
    "df_clean = df_new.dropna()"
   ]
  },
  {
   "cell_type": "code",
   "execution_count": 37,
   "metadata": {},
   "outputs": [
    {
     "name": "stdout",
     "output_type": "stream",
     "text": [
      "shape if df:  (5402, 9)\n",
      "Shape of df_new: (5319, 9)\n"
     ]
    }
   ],
   "source": [
    "print(\"shape if df: \", df_new.shape)\n",
    "print(\"Shape of df_new:\", df_clean.shape)"
   ]
  },
  {
   "cell_type": "code",
   "execution_count": 38,
   "metadata": {},
   "outputs": [
    {
     "data": {
      "text/html": [
       "<div>\n",
       "<style scoped>\n",
       "    .dataframe tbody tr th:only-of-type {\n",
       "        vertical-align: middle;\n",
       "    }\n",
       "\n",
       "    .dataframe tbody tr th {\n",
       "        vertical-align: top;\n",
       "    }\n",
       "\n",
       "    .dataframe thead th {\n",
       "        text-align: right;\n",
       "    }\n",
       "</style>\n",
       "<table border=\"1\" class=\"dataframe\">\n",
       "  <thead>\n",
       "    <tr style=\"text-align: right;\">\n",
       "      <th></th>\n",
       "      <th>ID</th>\n",
       "      <th>age</th>\n",
       "      <th>sex</th>\n",
       "      <th>bmi</th>\n",
       "      <th>OA</th>\n",
       "      <th>level_education</th>\n",
       "      <th>N_kids</th>\n",
       "      <th>has_kid</th>\n",
       "      <th>N_disease</th>\n",
       "    </tr>\n",
       "  </thead>\n",
       "  <tbody>\n",
       "    <tr>\n",
       "      <th>0</th>\n",
       "      <td>1000007</td>\n",
       "      <td>71</td>\n",
       "      <td>1</td>\n",
       "      <td>16.852522</td>\n",
       "      <td>0</td>\n",
       "      <td>3</td>\n",
       "      <td>0.0</td>\n",
       "      <td>0.0</td>\n",
       "      <td>1</td>\n",
       "    </tr>\n",
       "    <tr>\n",
       "      <th>1</th>\n",
       "      <td>1000018</td>\n",
       "      <td>83</td>\n",
       "      <td>0</td>\n",
       "      <td>25.249337</td>\n",
       "      <td>0</td>\n",
       "      <td>2</td>\n",
       "      <td>1.0</td>\n",
       "      <td>1.0</td>\n",
       "      <td>1</td>\n",
       "    </tr>\n",
       "    <tr>\n",
       "      <th>2</th>\n",
       "      <td>1000020</td>\n",
       "      <td>72</td>\n",
       "      <td>1</td>\n",
       "      <td>30.119376</td>\n",
       "      <td>0</td>\n",
       "      <td>1</td>\n",
       "      <td>2.0</td>\n",
       "      <td>1.0</td>\n",
       "      <td>3</td>\n",
       "    </tr>\n",
       "    <tr>\n",
       "      <th>3</th>\n",
       "      <td>1000024</td>\n",
       "      <td>80</td>\n",
       "      <td>1</td>\n",
       "      <td>37.109375</td>\n",
       "      <td>0</td>\n",
       "      <td>1</td>\n",
       "      <td>3.0</td>\n",
       "      <td>1.0</td>\n",
       "      <td>4</td>\n",
       "    </tr>\n",
       "    <tr>\n",
       "      <th>4</th>\n",
       "      <td>1000319</td>\n",
       "      <td>98</td>\n",
       "      <td>1</td>\n",
       "      <td>22.959088</td>\n",
       "      <td>0</td>\n",
       "      <td>1</td>\n",
       "      <td>0.0</td>\n",
       "      <td>0.0</td>\n",
       "      <td>2</td>\n",
       "    </tr>\n",
       "    <tr>\n",
       "      <th>...</th>\n",
       "      <td>...</td>\n",
       "      <td>...</td>\n",
       "      <td>...</td>\n",
       "      <td>...</td>\n",
       "      <td>...</td>\n",
       "      <td>...</td>\n",
       "      <td>...</td>\n",
       "      <td>...</td>\n",
       "      <td>...</td>\n",
       "    </tr>\n",
       "    <tr>\n",
       "      <th>5397</th>\n",
       "      <td>4005996</td>\n",
       "      <td>47</td>\n",
       "      <td>0</td>\n",
       "      <td>25.507493</td>\n",
       "      <td>0</td>\n",
       "      <td>1</td>\n",
       "      <td>2.0</td>\n",
       "      <td>1.0</td>\n",
       "      <td>1</td>\n",
       "    </tr>\n",
       "    <tr>\n",
       "      <th>5398</th>\n",
       "      <td>4005997</td>\n",
       "      <td>76</td>\n",
       "      <td>1</td>\n",
       "      <td>25.402816</td>\n",
       "      <td>1</td>\n",
       "      <td>0</td>\n",
       "      <td>2.0</td>\n",
       "      <td>1.0</td>\n",
       "      <td>3</td>\n",
       "    </tr>\n",
       "    <tr>\n",
       "      <th>5399</th>\n",
       "      <td>4005998</td>\n",
       "      <td>71</td>\n",
       "      <td>0</td>\n",
       "      <td>17.592593</td>\n",
       "      <td>1</td>\n",
       "      <td>3</td>\n",
       "      <td>2.0</td>\n",
       "      <td>1.0</td>\n",
       "      <td>3</td>\n",
       "    </tr>\n",
       "    <tr>\n",
       "      <th>5400</th>\n",
       "      <td>4005999</td>\n",
       "      <td>78</td>\n",
       "      <td>0</td>\n",
       "      <td>26.827421</td>\n",
       "      <td>1</td>\n",
       "      <td>3</td>\n",
       "      <td>4.0</td>\n",
       "      <td>1.0</td>\n",
       "      <td>3</td>\n",
       "    </tr>\n",
       "    <tr>\n",
       "      <th>5401</th>\n",
       "      <td>4006002</td>\n",
       "      <td>50</td>\n",
       "      <td>0</td>\n",
       "      <td>24.099723</td>\n",
       "      <td>0</td>\n",
       "      <td>2</td>\n",
       "      <td>4.0</td>\n",
       "      <td>1.0</td>\n",
       "      <td>1</td>\n",
       "    </tr>\n",
       "  </tbody>\n",
       "</table>\n",
       "<p>5319 rows × 9 columns</p>\n",
       "</div>"
      ],
      "text/plain": [
       "           ID  age sex        bmi OA level_education  N_kids  has_kid  \\\n",
       "0     1000007   71   1  16.852522  0               3     0.0      0.0   \n",
       "1     1000018   83   0  25.249337  0               2     1.0      1.0   \n",
       "2     1000020   72   1  30.119376  0               1     2.0      1.0   \n",
       "3     1000024   80   1  37.109375  0               1     3.0      1.0   \n",
       "4     1000319   98   1  22.959088  0               1     0.0      0.0   \n",
       "...       ...  ...  ..        ... ..             ...     ...      ...   \n",
       "5397  4005996   47   0  25.507493  0               1     2.0      1.0   \n",
       "5398  4005997   76   1  25.402816  1               0     2.0      1.0   \n",
       "5399  4005998   71   0  17.592593  1               3     2.0      1.0   \n",
       "5400  4005999   78   0  26.827421  1               3     4.0      1.0   \n",
       "5401  4006002   50   0  24.099723  0               2     4.0      1.0   \n",
       "\n",
       "      N_disease  \n",
       "0             1  \n",
       "1             1  \n",
       "2             3  \n",
       "3             4  \n",
       "4             2  \n",
       "...         ...  \n",
       "5397          1  \n",
       "5398          3  \n",
       "5399          3  \n",
       "5400          3  \n",
       "5401          1  \n",
       "\n",
       "[5319 rows x 9 columns]"
      ]
     },
     "execution_count": 38,
     "metadata": {},
     "output_type": "execute_result"
    }
   ],
   "source": [
    "df_clean"
   ]
  },
  {
   "cell_type": "code",
   "execution_count": 39,
   "metadata": {},
   "outputs": [],
   "source": [
    "def reorder_columns(df):\n",
    "    \"\"\"\n",
    "    Function to reorder columns in a dataframe according to a specified order.\n",
    "    \"\"\"\n",
    "    # Desired order of columns\n",
    "    column_order = ['ID', 'age', 'sex', 'OA', 'bmi', 'level_education', 'N_kids', 'has_kid', 'N_disease']\n",
    "    \n",
    "    # Reorder the dataframe based on the specified column order\n",
    "    df = df[column_order]\n",
    "    \n",
    "    return df"
   ]
  },
  {
   "cell_type": "code",
   "execution_count": null,
   "metadata": {},
   "outputs": [],
   "source": [
    "df2021 = reorder_columns(df_clean)"
   ]
  },
  {
   "cell_type": "code",
   "execution_count": 41,
   "metadata": {},
   "outputs": [
    {
     "data": {
      "text/plain": [
       "(5319, 9)"
      ]
     },
     "execution_count": 41,
     "metadata": {},
     "output_type": "execute_result"
    }
   ],
   "source": [
    "df2021.to_csv('data/confounder2021.csv')\n",
    "df = pd.read_csv('data/confounder2021.csv').drop(columns=['Unnamed: 0'])\n",
    "df.shape"
   ]
  },
  {
   "cell_type": "code",
   "execution_count": 43,
   "metadata": {},
   "outputs": [
    {
     "name": "stdout",
     "output_type": "stream",
     "text": [
      "Number of men without kids: 313\n",
      "Number of women without kids: 319\n",
      "Number of men without kids who have OA: 116\n",
      "Number of women without kids who have OA: 140\n"
     ]
    }
   ],
   "source": [
    "# 1. Men without kid vs. Women without kid\n",
    "men_without_kid = df[(df['sex'] == 0) & (df['has_kid'] == 0)]\n",
    "women_without_kid = df[(df['sex'] == 1) & (df['has_kid'] == 0)]\n",
    "\n",
    "print(f\"Number of men without kids: {len(men_without_kid)}\")\n",
    "print(f\"Number of women without kids: {len(women_without_kid)}\")\n",
    "\n",
    "men_without_kid_with_oa = men_without_kid[men_without_kid['OA'] == 1]\n",
    "print(f\"Number of men without kids who have OA: {len(men_without_kid_with_oa)}\")\n",
    "\n",
    "women_without_kid_with_oa = women_without_kid[women_without_kid['OA'] == 1]\n",
    "print(f\"Number of women without kids who have OA: {len(women_without_kid_with_oa)}\")\n"
   ]
  },
  {
   "cell_type": "code",
   "execution_count": null,
   "metadata": {},
   "outputs": [],
   "source": []
  }
 ],
 "metadata": {
  "kernelspec": {
   "display_name": "physioai",
   "language": "python",
   "name": "python3"
  },
  "language_info": {
   "codemirror_mode": {
    "name": "ipython",
    "version": 3
   },
   "file_extension": ".py",
   "mimetype": "text/x-python",
   "name": "python",
   "nbconvert_exporter": "python",
   "pygments_lexer": "ipython3",
   "version": "3.10.13"
  }
 },
 "nbformat": 4,
 "nbformat_minor": 2
}
